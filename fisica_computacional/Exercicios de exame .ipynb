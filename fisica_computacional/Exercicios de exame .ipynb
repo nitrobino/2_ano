{
 "cells": [
  {
   "cell_type": "code",
   "execution_count": 3,
   "metadata": {
    "collapsed": true
   },
   "outputs": [],
   "source": [
    "import numpy as np\n",
    "import pylab as p \n",
    "\n",
    "\n",
    "def simpson(a,b,N,q,T):                   # definição de uma função que aplica a regra de simpson a uma função g(),\n",
    "    h = (b-a)/N                         # retornando um número.\n",
    "    odds = 0\n",
    "    evens = 0\n",
    "    for i in range(1,N,2):\n",
    "        odds += g(a+i*h,q,T)\n",
    "    for i in range(2,N,2):\n",
    "        evens+=g(a+i*h,q,T)\n",
    "    return (1/3)*h*(g(a,q,T)+g(b,q,T)+4*odds+2*evens)"
   ]
  },
  {
   "cell_type": "code",
   "execution_count": 6,
   "metadata": {},
   "outputs": [
    {
     "data": {
      "text/plain": [
       "0.0025016291707347124"
      ]
     },
     "execution_count": 6,
     "metadata": {},
     "output_type": "execute_result"
    }
   ],
   "source": [
    "def g(x,q,T):\n",
    "    return np.exp(-x**2*0.5)*(np.tanh(np.sqrt(q)/T*x))**2\n",
    "\n",
    "N = 100\n",
    "q = 10\n",
    "T = 100\n",
    "a = 10\n",
    "simpson(-a,a,N,q,T)"
   ]
  },
  {
   "cell_type": "code",
   "execution_count": 47,
   "metadata": {},
   "outputs": [
    {
     "data": {
      "text/plain": [
       "0.00099800564507544266"
      ]
     },
     "execution_count": 47,
     "metadata": {},
     "output_type": "execute_result"
    }
   ],
   "source": [
    "def g(z,q,T):\n",
    "    return (1/np.sqrt(2*np.pi))*(1/(1-z)**2)*np.exp(-(z/(1-z))**2*0.5)*(np.tanh(np.sqrt(q)/T*z/(1-z)))**2\n",
    "\n",
    "N = 100\n",
    "q = 10\n",
    "T = 100\n",
    "a = 10\n",
    "2 * simpson(0,0.99,N,q,T)"
   ]
  },
  {
   "cell_type": "code",
   "execution_count": 48,
   "metadata": {},
   "outputs": [
    {
     "data": {
      "image/png": "[encoded data removed]",
      "text/plain": [
       "<Figure size 432x288 with 1 Axes>"
      ]
     },
     "metadata": {},
     "output_type": "display_data"
    }
   ],
   "source": [
    "q = np.arange(0,1,0.05)\n",
    "for T in [0.5,1.,1.5]:\n",
    "    data = 2*simpson(0,0.99,N,q,T)\n",
    "    p.plot(q,data-q)\n",
    "p.plot(q,np.zeros(len(q)))\n",
    "\n",
    "p.show()"
   ]
  },
  {
   "cell_type": "code",
   "execution_count": 44,
   "metadata": {},
   "outputs": [
    {
     "data": {
      "text/plain": [
       "array([ 0.00099801,  0.00149552])"
      ]
     },
     "execution_count": 44,
     "metadata": {},
     "output_type": "execute_result"
    }
   ],
   "source": [
    "T=100\n",
    "q = np.array([10,15],float)\n",
    "data = 2*simpson(0,0.99,N,q,T)\n",
    "data"
   ]
  },
  {
   "cell_type": "code",
   "execution_count": 45,
   "metadata": {},
   "outputs": [
    {
     "data": {
      "text/plain": [
       "array([ 0.53036838,  2.49999993,  2.49999993])"
      ]
     },
     "execution_count": 45,
     "metadata": {},
     "output_type": "execute_result"
    }
   ],
   "source": [
    "e = 0.0000001\n",
    "theta = np.linspace(1,np.pi/4,20)\n",
    "#theta = np.array([np.pi/4],float)\n",
    "veloc = np.zeros(len(theta))\n",
    "res = np.zeros(3,float)\n",
    "i = -1\n",
    "for T in [0.5,1.,1.5]:\n",
    "    i += 1\n",
    "    q1 = 0.1\n",
    "    q2 = 2.5\n",
    "    h1 = 2*simpson(0,0.99,N,q1,T) - q1\n",
    "    h2 = 2*simpson(0,0.99,N,q2,T) - q2\n",
    "    while np.abs(h1-h2) > e:\n",
    "        qp = (q1+q2)/2\n",
    "        hp = 2*simpson(0,0.99,N,qp,T) - qp\n",
    "        if (hp)*(h1) > 0:\n",
    "            q1 = qp\n",
    "            h1 = hp\n",
    "        else:\n",
    "            q2 = qp\n",
    "            h2 = hp\n",
    "    res[i] = qp\n",
    "\n",
    "res"
   ]
  },
  {
   "cell_type": "code",
   "execution_count": null,
   "metadata": {
    "collapsed": true
   },
   "outputs": [],
   "source": []
  },
  {
   "cell_type": "code",
   "execution_count": null,
   "metadata": {
    "collapsed": true
   },
   "outputs": [],
   "source": []
  },
  {
   "cell_type": "code",
   "execution_count": null,
   "metadata": {
    "collapsed": true
   },
   "outputs": [],
   "source": []
  }
 ],
 "metadata": {
  "kernelspec": {
   "display_name": "Python 3",
   "language": "python",
   "name": "python3"
  },
  "language_info": {
   "codemirror_mode": {
    "name": "ipython",
    "version": 3
   },
   "file_extension": ".py",
   "mimetype": "text/x-python",
   "name": "python",
   "nbconvert_exporter": "python",
   "pygments_lexer": "ipython3",
   "version": "3.6.1"
  }
 },
 "nbformat": 4,
 "nbformat_minor": 2
}
