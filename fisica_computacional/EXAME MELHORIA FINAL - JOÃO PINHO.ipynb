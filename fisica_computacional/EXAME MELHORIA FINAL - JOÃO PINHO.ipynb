{
 "cells": [
  {
   "cell_type": "code",
   "execution_count": 2,
   "metadata": {
    "collapsed": true
   },
   "outputs": [],
   "source": [
    "import numpy as np\n",
    "import pylab as p\n",
    "import numpy.fft as npf\n",
    "from matplotlib import animation           \n",
    "from IPython.display import display, Image\n",
    "from IPython.display import HTML\n",
    "\n",
    "def init():\n",
    "    line.set_data([], [])                     \n",
    "    return line,\n",
    "\n",
    "def animate(i):\n",
    "    line.set_data(x, MA[i])\n",
    "    return line,"
   ]
  },
  {
   "cell_type": "code",
   "execution_count": 3,
   "metadata": {
    "collapsed": true
   },
   "outputs": [],
   "source": [
    "def matriz(a1,a2,b = 0, c = 0):                 # criar matrizes tridiagonais de acordo com os valores dos arrays a1, a2\n",
    "    if b == 0:\n",
    "        b = np.copy(a1)\n",
    "        \n",
    "    A = np.zeros((N,N),float)\n",
    "    for i in range(1,N-1):\n",
    "        A[i][i] = a1[i]\n",
    "        A[i][i-1] = a2[i]\n",
    "        A[i][i+1] = a2[i]\n",
    "    A[N-1][0] = c\n",
    "    A[0][N-2] = c    \n",
    "    A[0][0] = a1[0]\n",
    "    A[N-1][N-1] = b[N-1]\n",
    "    A[0][1] = a2[0]\n",
    "    A[N-1][N-2] = a2[N-1]\n",
    "    return A"
   ]
  },
  {
   "cell_type": "markdown",
   "metadata": {},
   "source": [
    "# Exercício "
   ]
  },
  {
   "cell_type": "markdown",
   "metadata": {},
   "source": [
    "## Alínea 1 e 3 (feitas em conjunto por ser mais prático)"
   ]
  },
  {
   "cell_type": "markdown",
   "metadata": {},
   "source": [
    "Fazendo a discretização Crank - Nicolson, obtemos equações do tipo:\n",
    "\n",
    "$ A\\psi(t+h) = B\\psi(t) + h\\phi(t) $\n",
    "\n",
    "$ A\\phi(t+h) = B\\phi(t) + C\\psi(t) $\n",
    "\n",
    "onde A, B e C são matrizes tridiagonais de valores a1, a2; b1, b2; c1, c2 respetivamente, onde a1, b1e c1 são os valores das suas diagonais principais e o resto são os valores nas subdiagonais. Com isto: \n",
    "\n",
    "$ a_{1} = 1 + \\frac{(ch)^2}{2 a^2} $ \n",
    "\n",
    "$ a_{2} =  -\\frac{(ch)^2}{4 a^2} $ \n",
    "\n",
    "$ b_{1} = 1 - \\frac{(ch)^2}{2 a^2} $ \n",
    "\n",
    "$ b_{2} =  \\frac{(ch)^2}{4 a^2} $ \n",
    "\n",
    "$ c_{1} =  -2\\frac{c^2h}{ a^2} $ \n",
    "\n",
    "$ c_{2} =  \\frac{c^2h}{ a^2} $ \n",
    "\n",
    "Para aplicar o solver Gauss-Seidel, obtenho expressões de cada ponto $ \\psi_{i}(t+h) $ em relação aos outros pontos do mesmo vetor (idem para $ \\phi(t+h) $), podendo assim realizar uma relaxação nessas expressões, convergindo para uma solução. Neste caso, as expressões ficam:\n",
    "\n",
    "$ \\psi_{i}(t+h) = \\frac{1}{A_{ii}}(B\\psi(t) + h\\phi(t) - A'_{ij}\\psi_{j}) $\n",
    "\n",
    "$ \\phi(t+h) = \\frac{1}{A_{ii}}(B\\phi(t) + C\\psi(t) - A'_{ij}\\phi_{j} ) $\n",
    "\n",
    "onde $ A_{ii} = a_{1} $ e $ A' $ é a matriz $A$ sem diagonal."
   ]
  },
  {
   "cell_type": "code",
   "execution_count": 73,
   "metadata": {
    "collapsed": true
   },
   "outputs": [],
   "source": [
    "a = 0.01\n",
    "delta = 0.1\n",
    "sigma = 0                 ## <---- corresponde ao 'a' que está no enunciado.\n",
    "N1 = int(1/a)\n",
    "N = N1 - 2\n",
    "h = delta*a\n",
    "x = np.linspace(0,1,N1)\n",
    "c = np.sqrt(1+sigma*(x[1:-1]-0.5))\n",
    "a1 = 1+(c*h)**2/(a**2)/2\n",
    "a2 = -(c*h)**2/(4*a**2)\n",
    "b1 = 1-(c*h)**2/(a**2)/2\n",
    "b2 = -a2\n",
    "c1 = -2*c**2*h/a**2\n",
    "c2 = c**2*h/a**2\n",
    "A = np.copy(matriz(np.zeros(len(a2)),a2))\n",
    "B = np.copy(matriz(b1,b2))\n",
    "C = np.copy(matriz(c1,c2))\n"
   ]
  },
  {
   "cell_type": "code",
   "execution_count": 74,
   "metadata": {
    "scrolled": true
   },
   "outputs": [
    {
     "data": {
      "image/png": "[encoded data removed]",
      "text/plain": [
       "<Figure size 432x288 with 1 Axes>"
      ]
     },
     "metadata": {},
     "output_type": "display_data"
    }
   ],
   "source": [
    "psi = np.sin(np.pi*x)\n",
    "phi = np.zeros(N1,float)\n",
    "phi1 = np.zeros(N1,float)\n",
    "psi1 = np.zeros(N1,float)\n",
    "temp = np.arange(0,6,0.005) \n",
    "data = np.zeros(len(temp),float)\n",
    "data[0] = psi[49]\n",
    "t = 0\n",
    "for i in range(1,len(temp)):\n",
    "    while t < temp[i]:\n",
    "        erro = 1e-6\n",
    "        e = 1\n",
    "        b1 = np.dot(B,psi[1:-1]) + h*phi[1:-1]\n",
    "        b2 = np.dot(B,phi[1:-1]) + np.dot(C,psi[1:-1])\n",
    "        while np.abs(e) > erro:\n",
    "            psi1[1:-1] = 1/a1*(b1- np.dot(A,psi[1:-1]))\n",
    "            phi1[1:-1] = 1/a1*(b2- np.dot(A,phi[1:-1]))\n",
    "            e = np.sum(psi1**2-psi**2)\n",
    "            psi = np.copy(psi1)\n",
    "            phi = np.copy(phi1)\n",
    "        t += h\n",
    "        data[i] = psi[49] \n",
    "p.plot(temp,data)\n",
    "p.xlabel('tempo ')\n",
    "p.ylabel('Posição y')\n",
    "p.show()"
   ]
  },
  {
   "cell_type": "markdown",
   "metadata": {},
   "source": [
    "## Alínea 2"
   ]
  },
  {
   "cell_type": "markdown",
   "metadata": {},
   "source": [
    "Ao usar o método Gauss-Seidel para n dimensões, precisamos de iterar por n vezes mais equações do que para uma dimensão, o que pode comprometer a eficiência do método. No caso das matrizes LU, precisamos também de resolver n vezes mais sistemas, porém, visto que as matrizes são determinadas de uma só vez e não as precisamos de recalcular, e tendo também em conta que a eliminação de Gauss é bastante rápida com esta decomposição, este método acaba por ser mais eficaz."
   ]
  },
  {
   "cell_type": "markdown",
   "metadata": {},
   "source": [
    "## Alínea 4"
   ]
  },
  {
   "cell_type": "code",
   "execution_count": 81,
   "metadata": {
    "scrolled": true
   },
   "outputs": [
    {
     "data": {
      "image/png": "[encoded data removed]",
      "text/plain": [
       "<Figure size 432x288 with 1 Axes>"
      ]
     },
     "metadata": {},
     "output_type": "display_data"
    }
   ],
   "source": [
    "trans = npf.rfft(data)\n",
    "omega = 2*np.pi/(len(data))/h*np.arange(0,(len(data)+1)/2,1)\n",
    "p.plot(omega,np.abs(trans),'.')\n",
    "p.xlim(0,30)\n",
    "p.xlabel('Frequência')\n",
    "p.ylabel('Norma')\n",
    "p.show()\n"
   ]
  },
  {
   "cell_type": "markdown",
   "metadata": {},
   "source": [
    "Podemos ver que, por se tratar de uma função sinusoidal, existe apenas um ponto diferente de 0 na transformada de Fourier, que corresponde à frequência do sinal. Nisto, a frequência é escrita como:\n",
    "\n",
    "$\\omega  = \\frac{2\\pi}{N\\Delta t}k $,\n",
    "\n",
    "onde $N$ é o número de pontos da amostragem e $\\Delta t$ corresponde ao intervalo de tempo entre medições, que neste caso coincide com o nosso $h$. Por causa disto, precisamos de ter cuidado com as nossas escolhas do $ N $ e do $\\Delta t$: Numa mesma amostragem, se aumentarmos um, o outro deve obrigatoriamente diminuir, caso contrário a nossa frequência varia, o que não pode acontecer por estarmos a estudar a mesma amostragem. Para além disto, ao escolhermos um N baixo, podemos não apanhar zonas de interesse da nossa função e, inclusive, não ver periodicidade (ao estudarmos uma onda sinusoidal, por exemplo, podemos escolher N tal que os pontos medidos calhem sempre na mesma amplitude, resultando por isso numa reta, que tem uma periodicidade bem diferente da da onda que pretendemos estudar)."
   ]
  },
  {
   "cell_type": "markdown",
   "metadata": {},
   "source": [
    "## Alínea 5"
   ]
  },
  {
   "cell_type": "code",
   "execution_count": 4,
   "metadata": {
    "collapsed": true
   },
   "outputs": [],
   "source": [
    "a = 0.01\n",
    "delta = 0.1\n",
    "sigma = 1.95                            ## <---- corresponde ao 'a' que está no enunciado.\n",
    "N1 = int(1/a)\n",
    "N = N1 - 2\n",
    "h = delta*a\n",
    "x = np.linspace(0,1,N1)\n",
    "c = np.sqrt(1+sigma*(x[1:-1]-0.5))\n",
    "a1 = 1+(c*h)**2/(a**2)/2\n",
    "a2 = -(c*h)**2/(4*a**2)\n",
    "b1 = 1-(c*h)**2/(a**2)/2\n",
    "b2 = -a2\n",
    "c1 = -2*c**2*h/a**2\n",
    "c2 = c**2*h/a**2\n",
    "A = np.copy(matriz(np.zeros(len(a2)),a2))\n",
    "B = np.copy(matriz(b1,b2))\n",
    "C = np.copy(matriz(c1,c2))\n"
   ]
  },
  {
   "cell_type": "code",
   "execution_count": 10,
   "metadata": {},
   "outputs": [
    {
     "data": {
      "image/png": "[encoded data removed]",
      "text/plain": [
       "<Figure size 432x288 with 1 Axes>"
      ]
     },
     "metadata": {},
     "output_type": "display_data"
    }
   ],
   "source": [
    "psi = np.sin(np.pi*x)\n",
    "p.plot(x,psi)\n",
    "phi = np.zeros(N1,float)\n",
    "phi1 = np.zeros(N1,float)\n",
    "psi1 = np.zeros(N1,float)\n",
    "temp = np.arange(0,6,0.05) \n",
    "data1 = np.zeros(len(temp),float)\n",
    "data1[0] = psi[49]\n",
    "t = 0\n",
    "MA = np.zeros((len(temp),len(x)),float)\n",
    "for i in range(1,len(temp)):\n",
    "    while t < temp[i]:\n",
    "        erro = 1e-6\n",
    "        e = 1\n",
    "        b1 = np.dot(B,psi[1:-1]) + h*phi[1:-1]\n",
    "        b2 = np.dot(B,phi[1:-1]) + np.dot(C,psi[1:-1])\n",
    "        while np.abs(e) > erro:\n",
    "            psi1[1:-1] = 1/a1*(b1- np.dot(A,psi[1:-1]))\n",
    "            phi1[1:-1] = 1/a1*(b2- np.dot(A,phi[1:-1]))\n",
    "            e = np.sum(psi1**2-psi**2)\n",
    "            psi = np.copy(psi1)\n",
    "            phi = np.copy(phi1)\n",
    "        t += h\n",
    "        data1[i] = psi[49] \n",
    "    MA[i] = psi\n",
    "#p.plot(temp,data1)\n",
    "p.xlabel('tempo ')\n",
    "p.ylabel('Posição y')\n",
    "p.show()"
   ]
  },
  {
   "cell_type": "code",
   "execution_count": 82,
   "metadata": {},
   "outputs": [
    {
     "data": {
      "image/png": "[encoded data removed]",
      "text/plain": [
       "<Figure size 432x288 with 1 Axes>"
      ]
     },
     "metadata": {},
     "output_type": "display_data"
    }
   ],
   "source": [
    "trans1 = npf.rfft(data1)\n",
    "omega = 2*np.pi/(len(data1))/h*np.arange(0,(len(data1)+1)/2,1)\n",
    "p.plot(omega,np.abs(trans1),'.')\n",
    "p.xlabel('Frequência')\n",
    "p.ylabel('Norma')\n",
    "p.xlim(0,100)\n",
    "p.show()"
   ]
  },
  {
   "cell_type": "markdown",
   "metadata": {},
   "source": [
    "Neste caso, vemos que a onda não é um harmónico perfeito, e por isso será uma sobreposição de ondas sinusoidais com diferentes frequências. Nisto, podemos na mesma reparar que existe uma frequência dominante, e que por isso conseguimos notar ainda alguma periodicidade na função. Isto deve-se ao facto de introduzirmos um $c$ (velocidade da onda) que depende da posição, o que corresponde também a dizer que o meio onde a onda se propaga tem uma densidade variável com a posição, tornando a oscilação e propagação da onda mais difícil nuns sítios do que noutros. Já no outro caso, tendo uma densidade constante na posição, a onda que estudamos trata-se de um modo normal de vibração, o que justifica o porquê da posição de $\\psi(0.5,t)$ em função do tempo resultar numa função sinusoidal. "
   ]
  },
  {
   "cell_type": "code",
   "execution_count": null,
   "metadata": {
    "collapsed": true
   },
   "outputs": [],
   "source": []
  }
 ],
 "metadata": {
  "kernelspec": {
   "display_name": "Python 3",
   "language": "python",
   "name": "python3"
  },
  "language_info": {
   "codemirror_mode": {
    "name": "ipython",
    "version": 3
   },
   "file_extension": ".py",
   "mimetype": "text/x-python",
   "name": "python",
   "nbconvert_exporter": "python",
   "pygments_lexer": "ipython3",
   "version": "3.6.1"
  }
 },
 "nbformat": 4,
 "nbformat_minor": 2
}
