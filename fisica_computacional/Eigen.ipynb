{
 "cells": [
  {
   "cell_type": "code",
   "execution_count": 4,
   "metadata": {
    "collapsed": true
   },
   "outputs": [],
   "source": [
    "import numpy as np"
   ]
  },
  {
   "cell_type": "code",
   "execution_count": 5,
   "metadata": {},
   "outputs": [],
   "source": [
    "def QR(A):\n",
    "    N = len(A[0])\n",
    "    U = np.zeros([N,N])\n",
    "    Q = np.zeros([N,N])\n",
    "    R = np.zeros([N,N])\n",
    "    U[0] = A[0]\n",
    "    Q[0] = U[0] / np.linalg.norm([U[0]])\n",
    "    for i in range(1,N):\n",
    "        s = np.zeros(N)\n",
    "        for j in range(i+1):\n",
    "            s = s + ( np.dot(Q[j],A[i]) * Q[j] )\n",
    "        U[i] = A[i] - s\n",
    "        Q[i] = U[i] / np.linalg.norm(U[i])\n",
    "    for k in range(N):\n",
    "        R[k,k] = np.linalg.norm(U[k])\n",
    "        for l in range(k+1,N):\n",
    "            R[k,l] = np.dot(Q[k],A[l])\n",
    "    Q = np.matrix.transpose(Q)\n",
    "    results = [Q,R]\n",
    "    return results\n",
    "\n",
    "A1 = np.array([[1,4,8,4],[4,2,3,7],[8,3,6,9],[4,7,9,2]],float)\n",
    "x1,V1 = np.linalg.eigh(A1)"
   ]
  },
  {
   "cell_type": "code",
   "execution_count": 9,
   "metadata": {},
   "outputs": [
    {
     "name": "stdout",
     "output_type": "stream",
     "text": [
      "[ 21.  -8.  -3.   1.]\n",
      "[[ 0.43151698 -0.38357064 -0.77459666 -0.25819889]\n",
      " [ 0.38357063  0.43151698 -0.2581989   0.77459667]\n",
      " [ 0.62330228  0.52740965  0.25819889 -0.51639778]\n",
      " [ 0.52740965 -0.62330227  0.51639779  0.25819889]]\n",
      "[ -8.  -3.   1.  21.]\n",
      "[[-0.38357064 -0.77459667  0.25819889 -0.43151697]\n",
      " [ 0.43151697 -0.25819889 -0.77459667 -0.38357064]\n",
      " [ 0.52740963  0.25819889  0.51639778 -0.62330229]\n",
      " [-0.62330229  0.51639778 -0.25819889 -0.52740963]]\n"
     ]
    }
   ],
   "source": [
    "def eigen(A,epsilon):\n",
    "    N = len(A[0])\n",
    "    V = np.identity(N)\n",
    "    values = np.zeros(N)\n",
    "    trigger = True\n",
    "    while trigger:\n",
    "        trigger = False\n",
    "        Q = QR(A)[0]\n",
    "        R = QR(A)[1]\n",
    "        A = np.dot(R,Q)\n",
    "        V = np.dot(V,Q)\n",
    "        for i in range(N):\n",
    "            for j in range(N):\n",
    "                if A[i,j] > epsilon and i!=j :\n",
    "                    trigger = True\n",
    "    for i in range(N):\n",
    "        values[i] = A[i,i]\n",
    "    return [values,V]\n",
    "\n",
    "\n",
    "data = eigen(A1,1e-6)\n",
    "print(data[0])\n",
    "print(data[1])\n",
    "# x1 = [-8. -3.  1. 21.]        \n",
    "print(x1)\n",
    "print(V1)                    "
   ]
  },
  {
   "cell_type": "code",
   "execution_count": null,
   "metadata": {
    "collapsed": true
   },
   "outputs": [],
   "source": []
  }
 ],
 "metadata": {
  "kernelspec": {
   "display_name": "Python 3",
   "language": "python",
   "name": "python3"
  },
  "language_info": {
   "codemirror_mode": {
    "name": "ipython",
    "version": 3
   },
   "file_extension": ".py",
   "mimetype": "text/x-python",
   "name": "python",
   "nbconvert_exporter": "python",
   "pygments_lexer": "ipython3",
   "version": "3.6.1"
  }
 },
 "nbformat": 4,
 "nbformat_minor": 2
}
