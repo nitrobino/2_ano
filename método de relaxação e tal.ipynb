{
 "cells": [
  {
   "cell_type": "markdown",
   "metadata": {},
   "source": [
    "Considere a equation $x = 1 − e^{−cx}$, em que c é um parãmetro conhecido and x uma incógnita. Esta equação surge numa variedade de situações, incluindo a física dos processos de contacto, os modelos matemáticos de epidemias e a teoria de gráficos aleatórios.\n",
    "\n",
    "1. Escreva um programa para resolver esta equação para x usando o método de relaxação para o caso  c = 2. Calcule asua solução com uma exactidão de pelo menos 10−6.\n",
    "\n",
    "2. Modifique seu programa para calcular a solução para valores de c de 0 a 3 em passos de 0.01 e faça um gráfico de x em função de c. Deve ver uma transição clara de um regime em que x = 0 para um regime de $ x \\neq 0 $. Este é outro exemplo de transição de fase. Na física, essa transição é conhecida como transição de percolação; em epidemiologia é o limiar epidémico.\n"
   ]
  },
  {
   "cell_type": "code",
   "execution_count": 6,
   "metadata": {
    "collapsed": true
   },
   "outputs": [],
   "source": [
    "import numpy as np\n",
    "import pylab as p\n",
    "from matplotlib import animation           \n",
    "from IPython.display import display, Image\n",
    "from IPython.display import HTML\n",
    "\n",
    "def init():\n",
    "    line.set_data([], [])                     \n",
    "    return line,\n",
    "\n",
    "def animate(i):\n",
    "    line.set_data(x, MA[i])\n",
    "    return line,\n",
    "\n",
    "N = 100\n",
    "def f(x,c,M):\n",
    "    a = np.ones(M)\n",
    "    return a-np.exp(-c*x)\n",
    "\n",
    "def df(x,c):\n",
    "    return c*np.exp(-c*x)\n",
    "\n",
    "def relax1(x,error,c,M):\n",
    "    e = 1\n",
    "    while np.abs(e)> np.abs(error):\n",
    "        a,x = x,f(x,c,M)\n",
    "        e = (a-x)/(1-1/df(a,c))\n",
    "    return x\n",
    "\n",
    "def relax(x,c,M):\n",
    "    for i in range(N):\n",
    "        x = f(x,c,M)\n",
    "    return x"
   ]
  },
  {
   "cell_type": "code",
   "execution_count": 23,
   "metadata": {},
   "outputs": [
    {
     "name": "stdout",
     "output_type": "stream",
     "text": [
      "[ 0.79681263] \n",
      "\n",
      "[ 0.79681213] \n",
      "\n",
      "[  5.01091826e-07] \n",
      "\n"
     ]
    }
   ],
   "source": [
    "print(relax1(1,10**(-6),2,1),'\\n')\n",
    "print(relax(1,2,1),'\\n')\n",
    "print(np.abs(relax(1,2,1)-relax1(1,10**(-6),2,1)),'\\n')\n"
   ]
  },
  {
   "cell_type": "code",
   "execution_count": 24,
   "metadata": {},
   "outputs": [
    {
     "data": {
      "image/png": "[encoded data removed]",
      "text/plain": [
       "<matplotlib.figure.Figure at 0x1139fc8d0>"
      ]
     },
     "metadata": {},
     "output_type": "display_data"
    }
   ],
   "source": [
    "c = np.linspace(0,3,100)\n",
    "x = np.ones(len(c))\n",
    "y = relax(x,c,len(c))\n",
    "p.plot(c,y)\n",
    "p.show()"
   ]
  },
  {
   "cell_type": "code",
   "execution_count": 40,
   "metadata": {},
   "outputs": [
    {
     "name": "stdout",
     "output_type": "stream",
     "text": [
      "0.79681213002\n",
      "[0.79681263111184575, 14]\n",
      "[0.79681243148634029, 7]\n"
     ]
    }
   ],
   "source": [
    "def f(x,c):\n",
    "    return 1-np.exp(-c*x)\n",
    "\n",
    "def relax(x,c):\n",
    "    for i in range(N):\n",
    "        x = f(x,c)\n",
    "    return x\n",
    "\n",
    "def relax2(x,error,c):\n",
    "    e = 1\n",
    "    b = 0\n",
    "    while np.abs(e)> np.abs(error):\n",
    "        a,x = x,f(x,c)\n",
    "        e = (a-x)/(1-1/df(a,c))\n",
    "        b += 1\n",
    "    return [x,b]\n",
    "\n",
    "def overrelax(x,error,c,w):\n",
    "    e = 1\n",
    "    b = 0\n",
    "    while np.abs(e)> np.abs(error):\n",
    "        a,x = x,((1+w)*f(x,c)-w*x)\n",
    "        e = (a-x)/(1-1/((1+w)*df(a,c)-w))\n",
    "        b += 1\n",
    "    return [x,b]\n",
    "                   \n",
    "print(relax(1,2))\n",
    "print(relax2(1,10**(-6),2))\n",
    "print(overrelax(1,10**(-6),2,0.4))"
   ]
  },
  {
   "cell_type": "code",
   "execution_count": 43,
   "metadata": {},
   "outputs": [
    {
     "name": "stdout",
     "output_type": "stream",
     "text": [
      "0.5\n",
      "2.0\n"
     ]
    }
   ],
   "source": [
    "def f(x):\n",
    "    return 0.4*(1+x**2)\n",
    "\n",
    "def relax(x):\n",
    "    for i in range(N):\n",
    "        x = f(x)\n",
    "    return x\n",
    "print(relax(1))\n",
    "\n",
    "def f(x):\n",
    "    return np.sqrt((x-0.4)/0.4)\n",
    "print(relax(1))"
   ]
  },
  {
   "cell_type": "code",
   "execution_count": 2,
   "metadata": {},
   "outputs": [
    {
     "name": "stdout",
     "output_type": "stream",
     "text": [
      "0.00289974524084\n"
     ]
    }
   ],
   "source": [
    "def f(x):\n",
    "    return 5*np.exp(-x) + x - 5\n",
    "def bi(x1,x2,error):\n",
    "    e = 1\n",
    "    while np.abs(e)>error:\n",
    "        x = x1 + 0.5*np.abs(x1-x2)\n",
    "        if f(x)*f(x1)<0:\n",
    "            x2 = x\n",
    "        else:\n",
    "            x1 = x\n",
    "        e = np.abs(x1-x2)\n",
    "    x = x1 + 0.5*np.abs(x1-x2)\n",
    "    return x\n",
    "print((6.626e-34)*3e8/((1.38065e-23)*bi(1,5,10**(-10))))"
   ]
  },
  {
   "cell_type": "code",
   "execution_count": 6,
   "metadata": {},
   "outputs": [
    {
     "data": {
      "image/png": "[encoded data removed]",
      "text/plain": [
       "<Figure size 432x288 with 1 Axes>"
      ]
     },
     "metadata": {},
     "output_type": "display_data"
    }
   ],
   "source": [
    "import numpy as np\n",
    "import pylab as p\n",
    "\n",
    "def P(x):\n",
    "    return 924*x**6-2772*x**5+3150*x**4-1680*x**3+420*x**2-42*x+1\n",
    "def dP(x):\n",
    "    return 924*6*x**5-2772*5*x**4+3150*4*x**3-1680*3*x**2+420*2*x-42\n",
    "x = np.linspace(0,1,100)\n",
    "y = P(x)\n",
    "p.plot(x,y)\n",
    "y = np.zeros(len(x))\n",
    "p.plot(x,y)\n",
    "p.show()"
   ]
  },
  {
   "cell_type": "code",
   "execution_count": 7,
   "metadata": {},
   "outputs": [
    {
     "name": "stdout",
     "output_type": "stream",
     "text": [
      "0.1693952067020435\n",
      "0.03376524282433868\n",
      "0.6193095930422011\n",
      "0.38069040695723316\n",
      "0.9662347571664821\n",
      "0.8306046933673886\n"
     ]
    }
   ],
   "source": [
    "def newton(x,error):\n",
    "    e = 1\n",
    "    while np.abs(e)>np.abs(error):\n",
    "        a,x = x,x-P(x)/dP(x)\n",
    "        e = np.abs(x-a)\n",
    "    return a\n",
    "for i in range(3):\n",
    "    print(newton((i)*0.4 + 0.15,10**(-6)))\n",
    "    print(newton((i)*0.4 + 0.01,10**(-6))) "
   ]
  },
  {
   "cell_type": "code",
   "execution_count": 2,
   "metadata": {},
   "outputs": [
    {
     "name": "stdout",
     "output_type": "stream",
     "text": [
      "326045071.66535544\n"
     ]
    }
   ],
   "source": [
    "def newton(x,error):\n",
    "    e = 1\n",
    "    while np.abs(e)>np.abs(error):\n",
    "        a,x = x,x-f(x)/df(x)\n",
    "        e = np.abs(x-a)\n",
    "    return a\n",
    "\n",
    "def sec(x1,x2,error):\n",
    "    e = 1\n",
    "    while np.abs(e)>np.abs(error):\n",
    "        x1,x3 = x2,x2-f(x2)*(x2-x1)/(f(x2)-f(x1))\n",
    "        x2 = x3\n",
    "        e = np.abs(x2-x1)\n",
    "    return x2\n",
    "\n",
    "def f(r):\n",
    "    G = 6.674e-11\n",
    "    M = 5.974e24\n",
    "    m = 7.348e22\n",
    "    w = 2.662e-6\n",
    "    R = 3.844e8\n",
    "    return G*M/r**2-G*m/(R-r)**2-w**2*r\n",
    "\n",
    "def df(r):\n",
    "    G = 6.674e-11\n",
    "    M = 5.974e24\n",
    "    m = 7.348e22\n",
    "    w = 2.662e-6\n",
    "    R = 3.844e8\n",
    "    return 2*m/(R-r)**3 - 2*M/r**3 - w**2\n",
    "\n",
    "\n",
    "\n",
    "print(sec(1e8,1.5e8,1e-4))\n"
   ]
  },
  {
   "cell_type": "code",
   "execution_count": 3,
   "metadata": {},
   "outputs": [
    {
     "data": {
      "image/png": "[encoded data removed]",
      "text/plain": [
       "<Figure size 432x288 with 1 Axes>"
      ]
     },
     "metadata": {},
     "output_type": "display_data"
    }
   ],
   "source": [
    "G = 6.674e-11\n",
    "M = 5.974e24\n",
    "m = 7.348e22\n",
    "w = 2.662e-6\n",
    "R = 3.844e8\n",
    "x = np.linspace(1,3.84e8,100)\n",
    "y = f(x)\n",
    "p.plot(x,y)\n",
    "p.plot(x,np.zeros(len(x)))\n",
    "p.ylim(-0.5,0.5)\n",
    "p.show()"
   ]
  },
  {
   "cell_type": "code",
   "execution_count": 3,
   "metadata": {},
   "outputs": [
    {
     "data": {
      "text/plain": [
       "326045071.66535544"
      ]
     },
     "execution_count": 3,
     "metadata": {},
     "output_type": "execute_result"
    }
   ],
   "source": [
    "def newton(x,error):\n",
    "    e = 1\n",
    "    while np.abs(e)>np.abs(error):\n",
    "        a,x = x,x-f(x)/df(x)\n",
    "        e = np.abs(x-a)\n",
    "    return a\n",
    "R = 3.844e8\n",
    "def f(r):\n",
    "    G = 6.674e-11\n",
    "    M = 5.974e24\n",
    "    m = 7.348e22\n",
    "    w = 2.662e-6\n",
    "    R = 3.844e8\n",
    "    return G*M/r**2-G*m/(R-r)**2-w**2*r\n",
    "\n",
    "def df(r):\n",
    "    G = 6.674e-11\n",
    "    M = 5.974e24\n",
    "    m = 7.348e22\n",
    "    w = 2.662e-6\n",
    "    R = 3.844e8\n",
    "    return -2*m*G/(R-r)**3 - 2*M*G/r**3 - w**2\n",
    "newton(0.75*R,1e-4)"
   ]
  },
  {
   "cell_type": "code",
   "execution_count": 5,
   "metadata": {},
   "outputs": [
    {
     "name": "stdout",
     "output_type": "stream",
     "text": [
      "[ 1.  1.]\n",
      "0.0\n"
     ]
    },
    {
     "name": "stderr",
     "output_type": "stream",
     "text": [
      "/anaconda/lib/python3.6/site-packages/ipykernel_launcher.py:22: RuntimeWarning: invalid value encountered in log\n"
     ]
    }
   ],
   "source": [
    "vt = 0.05\n",
    "I0 = 3e-9\n",
    "R1 = 1e3\n",
    "R2 = 4e3\n",
    "R3 = 3e3\n",
    "R4 = 2e3\n",
    "vm = 5\n",
    "def Jac(v1,v2):\n",
    "    J = np.zeros((2,2),float)\n",
    "    J[0][0] = 1/R1 + 1/R2 + I0*np.exp((v1-v2)/vt)/vt\n",
    "    J[0][1] = -I0*np.exp((v1-v2)/vt)/vt\n",
    "    J[1][0] = -I0*np.exp((v1-v2)/vt)/vt\n",
    "    J[1][1] = 1/R3 + 1/R4 + I0*np.exp((v1-v2)/vt)/vt\n",
    "    return J\n",
    "\n",
    "def f(v):\n",
    "    v1 = v[0]\n",
    "    v2 = v[1]\n",
    "    c1= -((v1-vm)/R1+v1/R2)/I0 + 1\n",
    "    c2 =((v2-vm)/R3+v2/R4)/I0 + 1 \n",
    "    f1 = vt*np.log(c1)+v2\n",
    "    f2 = -vt*np.log(c2)+v1\n",
    "    return np.array([f1,f2],float)\n",
    "\n",
    "def newton_vec(v,error):\n",
    "    e = 1\n",
    "    while np.abs(e)>np.abs(error):\n",
    "        a = np.copy(v)\n",
    "        J = Jac(v[0],v[1])\n",
    "        Jinv = np.linalg.inv(J)\n",
    "        x = np.dot(Jinv,f(v))\n",
    "        v = np.copy(a-x)\n",
    "        e = np.sum(np.abs(v-a))/2\n",
    "    return a\n",
    "v = np.array([1,1],float)\n",
    "s = newton_vec(v,1e-8)\n",
    "print(s)\n",
    "print(s[1]-s[0])"
   ]
  },
  {
   "cell_type": "markdown",
   "metadata": {},
   "source": [
    "### relaxação"
   ]
  },
  {
   "cell_type": "code",
   "execution_count": 2,
   "metadata": {},
   "outputs": [
    {
     "name": "stdout",
     "output_type": "stream",
     "text": [
      "[ 4.75  3.5 ]\n",
      "3.125\n",
      "[ 3.812497 -0.250009]\n",
      "2.343756\n",
      "[ 4.04687275  5.3750045 ]\n",
      "2.929694625\n",
      "[ 1030691.60931528  3092059.80059365]\n",
      "2061370.99402\n",
      "[ inf  inf]\n",
      "inf\n",
      "[ nan  nan]\n",
      "nan\n"
     ]
    },
    {
     "name": "stderr",
     "output_type": "stream",
     "text": [
      "/anaconda/lib/python3.6/site-packages/ipykernel_launcher.py:11: RuntimeWarning: overflow encountered in exp\n",
      "  # This is added back by InteractiveShellApp.init_path()\n",
      "/anaconda/lib/python3.6/site-packages/ipykernel_launcher.py:12: RuntimeWarning: overflow encountered in exp\n",
      "  if sys.path[0] == '':\n",
      "/anaconda/lib/python3.6/site-packages/ipykernel_launcher.py:11: RuntimeWarning: invalid value encountered in double_scalars\n",
      "  # This is added back by InteractiveShellApp.init_path()\n",
      "/anaconda/lib/python3.6/site-packages/ipykernel_launcher.py:12: RuntimeWarning: invalid value encountered in double_scalars\n",
      "  if sys.path[0] == '':\n"
     ]
    },
    {
     "data": {
      "text/plain": [
       "array([ nan,  nan])"
      ]
     },
     "execution_count": 2,
     "metadata": {},
     "output_type": "execute_result"
    }
   ],
   "source": [
    "vt = 0.05\n",
    "I0 = 3e-9\n",
    "R1 = 1e3\n",
    "R2 = 4e3\n",
    "R3 = 3e3\n",
    "R4 = 2e3\n",
    "vm = 5\n",
    "def f(v):\n",
    "    v1 = v[0]\n",
    "    v2 = v[1]\n",
    "    f1 = R1*(vm/R1 -v1/R2 + I0*(np.exp(-(v1-v2)/vt)-1) )\n",
    "    f2 = R3*(vm/R3 -v2/R4 + I0*(np.exp(-(v1-v2)/vt)-1) )\n",
    "    return np.array([f1,f2],float)\n",
    "\n",
    "v = np.array([1,1],float)\n",
    "\n",
    "def relax_vec(v,error):\n",
    "    e = 1\n",
    "    while np.abs(e)>np.abs(error):\n",
    "        a = np.copy(v)\n",
    "        v = np.copy(f(v))\n",
    "        e = np.sum(np.abs(v-a))/2\n",
    "        print(v)\n",
    "        print(e)\n",
    "        \n",
    "    return v\n",
    "relax_vec(v,1e-6)"
   ]
  },
  {
   "cell_type": "code",
   "execution_count": null,
   "metadata": {
    "collapsed": true
   },
   "outputs": [],
   "source": []
  }
 ],
 "metadata": {
  "kernelspec": {
   "display_name": "Python 3",
   "language": "python",
   "name": "python3"
  },
  "language_info": {
   "codemirror_mode": {
    "name": "ipython",
    "version": 3
   },
   "file_extension": ".py",
   "mimetype": "text/x-python",
   "name": "python",
   "nbconvert_exporter": "python",
   "pygments_lexer": "ipython3",
   "version": "3.6.1"
  }
 },
 "nbformat": 4,
 "nbformat_minor": 2
}
