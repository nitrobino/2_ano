{
 "cells": [
  {
   "cell_type": "markdown",
   "metadata": {
    "heading_collapsed": true
   },
   "source": [
    "# Integração"
   ]
  },
  {
   "cell_type": "code",
   "execution_count": null,
   "metadata": {
    "collapsed": true,
    "hidden": true
   },
   "outputs": [],
   "source": [
    "\n",
    "def simpson(a,b,N,z):                   # definição de uma função que aplica a regra de simpson a uma função g(),\n",
    "    h = (b-a)/N                         # retornando um número.\n",
    "    odds = 0\n",
    "    evens = 0\n",
    "    for i in range(1,N,2):\n",
    "        odds += g(a+i*h,z)\n",
    "    for i in range(2,N,2):\n",
    "        evens+=g(a+i*h,z)\n",
    "    return (1/3)*h*(g(a,z)+g(b,z)+4*odds+2*evens)\n",
    "\n",
    "\n"
   ]
  },
  {
   "cell_type": "markdown",
   "metadata": {
    "hidden": true
   },
   "source": [
    "## Simpson a duas dimensões"
   ]
  },
  {
   "cell_type": "code",
   "execution_count": null,
   "metadata": {
    "collapsed": true,
    "hidden": true
   },
   "outputs": [],
   "source": [
    "def simpson1(t,z,N,a,b,n):                      # definição de uma função que aplica a regra de simpson\n",
    "    h = (b-a)/N                                 # à função integranda na varável r (equivalente à integração de g em r)\n",
    "    odds = 0\n",
    "    evens = 0\n",
    "    for i in range(1,N,2):\n",
    "        odds += g(a+i*h,t,z,n)\n",
    "    for i in range(2,N,2):\n",
    "        evens+=g(a+i*h,t,z,n)\n",
    "    return (1/3)*h*(g(a,t,z,n)+g(b,t,z,n)+4*odds+2*evens)\n",
    "\n",
    "def simpson2(z,N,a,b,c,d,n):                  # definição de uma função que aplica a regra de simpson à função\n",
    "    h = (d-c)/N                               # simpson1() na variável t (theta)\n",
    "    odds = 0\n",
    "    evens = 0\n",
    "    for i in range(1,N,2):\n",
    "        odds += simpson1(c+i*h,z,N,a,b,n)\n",
    "    for i in range(2,N,2):\n",
    "        evens+=simpson1(c+i*h,z,N,a,b,n)\n",
    "    return (1/3)*h*(simpson1(c,z,N,a,b,n)+simpson1(d,z,N,a,b,n)+4*odds+2*evens)"
   ]
  },
  {
   "cell_type": "markdown",
   "metadata": {
    "hidden": true
   },
   "source": [
    "## Romberg"
   ]
  },
  {
   "cell_type": "code",
   "execution_count": null,
   "metadata": {
    "collapsed": true,
    "hidden": true
   },
   "outputs": [],
   "source": [
    "\n",
    "def recurso(matriz,i,j,N0,a,b):            # função recursiva que calcula todas as entradas\n",
    "    if j == 0:                             # de uma linha usando como argumento os indices de uma entrada, \n",
    "        N = N0*2**i                        # calculando todas as entradas para trás dessa\n",
    "        h = (b-a)/N\n",
    "        sum = 0\n",
    "        for k in range(1,N,2):\n",
    "            sum += f(a + k*h)\n",
    "        matriz[i][j] = 0.5*matriz[i-1][j] + h*sum\n",
    "    else:\n",
    "        recurso(matriz,i,j-1,N0,a,b)\n",
    "        matriz[i][j] = matriz[i][j-1] + (1/(4**(j)-1))*(matriz[i][j-1]-matriz[i-1][j-1])\n",
    "        \n",
    "\n",
    "def romberg(matriz,N0,a,b,erro):                     # função que implementa recurso() e pára baseada num erro\n",
    "    recurso(matriz,1,1,N0,a,b)    \n",
    "    e = (1/(4**(1)-1))*(matriz[1][0]-matriz[0][0])\n",
    "    i = 0\n",
    "    while np.abs(e-erro)>erro:\n",
    "        i += 1\n",
    "        matriz[i][i] = matriz[i][i-1] + e\n",
    "        recurso(matriz,i+1,i,N0,a,b)\n",
    "        h = (b-a)/(N0*2**i)\n",
    "        e = (1/(4**(i+1)-1))*(matriz[i+1][i]-matriz[i][i])\n",
    "    return matriz[i+1][i]"
   ]
  },
  {
   "cell_type": "markdown",
   "metadata": {
    "heading_collapsed": true
   },
   "source": [
    "# Equações diferenciais "
   ]
  },
  {
   "cell_type": "markdown",
   "metadata": {
    "hidden": true
   },
   "source": [
    "## Kutta não adaptativo"
   ]
  },
  {
   "cell_type": "code",
   "execution_count": null,
   "metadata": {
    "collapsed": true,
    "hidden": true
   },
   "outputs": [],
   "source": [
    "def kuta4(t,x0):\n",
    "    N = len(t)\n",
    "    h = (t[-1]-t[0])/N\n",
    "    x = np.zeros(N)\n",
    "    x[0] = x0\n",
    "    for i in range(N-1):\n",
    "        k1 = h*f(x[i],t[i])\n",
    "        k2 = h*f(x[i] + k1/2,t[i] + h/2)\n",
    "        k3 = h*f(x[i] + k2/2,t[i] + h/2)\n",
    "        k4 = h*f(x[i] + k3,t[i] + h)\n",
    "        x[i+1]= x[i] + (k1 + 2*k2 + 2*k3 + k4)/6\n",
    "    return x\n",
    "\n",
    "def vec_kuta4(t,x0):\n",
    "    N = len(t)\n",
    "    h = (t[-1]-t[0])/N\n",
    "    x = np.zeros( (N,len(x0) ),float)\n",
    "    x[0] = np.copy(x0)\n",
    "    for i in range(N-1):\n",
    "        k1 = np.copy(h*f(x[i],t[i]))\n",
    "        k2 = np.copy(h*f(x[i] + k1/2,t[i] + h/2))\n",
    "        k3 = np.copy(h*f(x[i] + k2/2,t[i] + h/2)) \n",
    "        k4 = np.copy(h*f(x[i] + k3,t[i] + h))\n",
    "        x[i+1]= np.copy(x[i] + (k1 + 2*k2 + 2*k3 + k4)/6)\n",
    "    return x"
   ]
  },
  {
   "cell_type": "markdown",
   "metadata": {
    "hidden": true
   },
   "source": [
    "## Kutta Adaptativo"
   ]
  },
  {
   "cell_type": "code",
   "execution_count": null,
   "metadata": {
    "collapsed": true,
    "hidden": true
   },
   "outputs": [],
   "source": [
    "def kuta_aux(t,x,h):\n",
    "    k1 = h*f(x,t)\n",
    "    k2 = h*f(x + k1/2,t + h/2)\n",
    "    k3 = h*f(x + k2/2,t + h/2)\n",
    "    k4 = h*f(x + k3,t + h)\n",
    "    return x + (k1 + 2*k2 + 2*k3 + k4)/6\n",
    "    \n",
    "\n",
    "def adapt_kuta(x0,a,b,e,h):\n",
    "    h1 = h\n",
    "    temp = [a]\n",
    "    x =[x0]\n",
    "    t = a\n",
    "    while t < b:\n",
    "        x1 = x0\n",
    "        x2 = kuta_aux(t,x1,2*h1)\n",
    "        for j in range(2):\n",
    "            x1 = kuta_aux(t + j*h1,x1,h1)\n",
    "        rho = 30*h1*e/(np.abs(x1-x2))\n",
    "        if rho > 1.:\n",
    "            x0 = x1\n",
    "            t += 2*h1\n",
    "            temp.append(t)\n",
    "            x.append(x1)\n",
    "        h1 = min(h1*rho**0.25,2*h1)\n",
    "    return np.array([temp,x],float)\n",
    "\n",
    "def adapt_kuta1(x0,a,b,e,h):\n",
    "    h1 = h \n",
    "    temp = np.zeros(300000)\n",
    "    x =np.zeros(300000)\n",
    "    temp[0] = a\n",
    "    x[0]= x0\n",
    "    t = a\n",
    "    i = 0\n",
    "    while t < b:\n",
    "        x1 = x0\n",
    "        x2 = kuta_aux(t,x1,2*h1)\n",
    "        for j in range(2):\n",
    "            x1 = kuta_aux(t + j*h1,x1,h1)\n",
    "        rho = 30*h1*e/(np.abs(x1-x2))\n",
    "        \n",
    "        if rho > 1.:\n",
    "            x0 = x1\n",
    "            i += 1\n",
    "            t += 2*h1\n",
    "            temp[i] = t\n",
    "            x[i] = x1\n",
    "        h1 = min(h1*rho**0.25,2*h1)\n",
    "        \n",
    "    return np.array([temp[:i+1],x[:i+1]],float)\n",
    "\n",
    "def vec_adapt_kuta(x0,a,b,e,h):\n",
    "    h1 = h\n",
    "    temp = [a]\n",
    "    x =[float(x0[0])]\n",
    "    r = np.copy(x0)\n",
    "    t = a\n",
    "    while t < b:\n",
    "        x1 = np.copy(r)\n",
    "        x2 = np.copy(kuta_aux(t,x1,2*h1))\n",
    "        for j in range(2):\n",
    "            x1 = np.copy(kuta_aux(t + j*h1,x1,h1))\n",
    "        rho = 30*h1*e/(np.abs(x1[0]-x2[0]))\n",
    "        if rho > 1.:\n",
    "            r = np.copy(x1)\n",
    "            t += 2*h1\n",
    "            temp.append(t)\n",
    "            x.append(x1[0])\n",
    "        h1 = min(h1*rho**0.25,2*h1)\n",
    "    return np.array([temp,x],float)\n",
    "\n",
    "def vec_adapt_kuta1(x0,a,b,e,h):\n",
    "    h1 = h\n",
    "    N = 30000\n",
    "    temp = np.zeros(N)\n",
    "    x = np.zeros(N)\n",
    "    temp[0] = a\n",
    "    x[0] = float(x0[0])\n",
    "    r = np.copy(x0)\n",
    "    t = a\n",
    "    i = 0\n",
    "    s = 1\n",
    "    while t < b:\n",
    "        x1 = np.copy(r)\n",
    "        x2 = np.copy(kuta_aux(t,x1,2*h1))\n",
    "        for j in range(2):\n",
    "            x1 = np.copy(kuta_aux(t + j*h1,x1,h1))\n",
    "        rho = 30*h1*e/(np.abs(x1[0]-x2[0]))\n",
    "        if rho > 1.:\n",
    "            i += 1\n",
    "            r = np.copy(x1)\n",
    "            t += 2*h1\n",
    "            temp[i] = t\n",
    "            x[i] = x1[0]\n",
    "        h1 = min(h1*rho**0.25,2*h1)\n",
    "        s = min(s,h1)\n",
    "    print(s)\n",
    "    return np.array([temp[:i+1],x[:i+1]],float)"
   ]
  },
  {
   "cell_type": "markdown",
   "metadata": {
    "hidden": true
   },
   "source": [
    "## Leap frog"
   ]
  },
  {
   "cell_type": "code",
   "execution_count": null,
   "metadata": {
    "collapsed": true,
    "hidden": true
   },
   "outputs": [],
   "source": [
    "def frog(r0,t,j = 1):                                # se j = 1, faz runge kutta normal. se j = -1, faz runge kutta \n",
    "    N = len(t)                                       # invertido.\n",
    "    h = j*(t[-1]-t[0])/N\n",
    "    r = np.zeros((N,len(r0)),float)\n",
    "    aux = np.zeros((N,len(r0)),float)\n",
    "    r[min(j,0)] = np.copy(r0)\n",
    "    aux[min(j,0)] = np.copy(r0 + 0.5*h*f(r0,t[0]))\n",
    "    \n",
    "    for i in range(j*min(0,j)*(N-1), max(0,j)*(N-1), j):\n",
    "        \n",
    "        r[i+j] = r[i] + h*f(aux[i],t[i] + 1/2*h)\n",
    "        aux[i+j] = aux[i] + h*f(r[(i+j)], t[i] + h)\n",
    "    return r "
   ]
  },
  {
   "cell_type": "markdown",
   "metadata": {},
   "source": [
    "# Matrizes e sistemas matriciais "
   ]
  },
  {
   "cell_type": "code",
   "execution_count": null,
   "metadata": {
    "collapsed": true
   },
   "outputs": [],
   "source": [
    "def QR(A):                                          # decomposição QR\n",
    "    N = len(A[0])\n",
    "    U = np.zeros([N,N])\n",
    "    Q = np.zeros([N,N])\n",
    "    R = np.zeros([N,N])\n",
    "    U[0] = A[0]\n",
    "    Q[0] = U[0] / np.linalg.norm([U[0]])\n",
    "    for i in range(1,N):\n",
    "        s = np.zeros(N)\n",
    "        for j in range(i+1):\n",
    "            s = s + ( np.dot(Q[j],A[i]) * Q[j] )\n",
    "        U[i] = A[i] - s\n",
    "        Q[i] = U[i] / np.linalg.norm(U[i])\n",
    "    for k in range(N):\n",
    "        R[k,k] = np.linalg.norm(U[k])\n",
    "        for l in range(k+1,N):\n",
    "            R[k,l] = np.dot(Q[k],A[l])\n",
    "    Q = np.matrix.transpose(Q)\n",
    "    results = [Q,R]\n",
    "    return results\n",
    "\n",
    "def eigen(A,epsilon):                                 #obter valores e vetores próprios a menos de um erro\n",
    "    N = len(A[0])\n",
    "    V = np.identity(N)\n",
    "    values = np.zeros(N)\n",
    "    trigger = True\n",
    "    while trigger:\n",
    "        trigger = False\n",
    "        Q = QR(A)[0]\n",
    "        R = QR(A)[1]\n",
    "        A = np.dot(R,Q)\n",
    "        V = np.dot(V,Q)\n",
    "        for i in range(N):\n",
    "            for j in range(N):\n",
    "                if A[i,j] > epsilon and i!=j :\n",
    "                    trigger = True\n",
    "    for i in range(N):\n",
    "        values[i] = A[i,i]\n",
    "    return [values,V]\n",
    "\n",
    "\n",
    "def thomas(trid,s):                        #eliminação gaussiana para matrizes tridiagonais \n",
    "    matriz = np.copy(trid)\n",
    "    v = np.copy(s)\n",
    "    for i in range(len(matriz)-1):\n",
    "        a = matriz[i][i]\n",
    "        v[i] /= a\n",
    "        matriz[i] /= a\n",
    "        b =matriz[i+1][i]\n",
    "        v[i+1] -= v[i]*b\n",
    "        matriz[i+1] -= matriz[i]*b\n",
    "    a = matriz[-1][-1]\n",
    "    v[-1] /= a\n",
    "    matriz[-1] /= a\n",
    "    sol = np.zeros(len(trid))\n",
    "    for i in range(1,len(trid)+1):\n",
    "        if i == 0:\n",
    "            sol[-i] = v[-i]\n",
    "        else:\n",
    "            sol[-i] = v[-i] - sol[-i+1]*matriz[-i][-i+1]\n",
    "    return sol\n",
    "\n",
    "def matriz(N,a1,a2,b = 0, c = 0):                 # criar matrizes tridiagonais\n",
    "    if b == 0:\n",
    "        b = a1\n",
    "        \n",
    "    A = np.zeros((N,N),complex)\n",
    "    for i in range(1,N-1):\n",
    "        A[i][i] = a1\n",
    "        A[i][i-1] = a2\n",
    "        A[i][i+1] = a2\n",
    "    A[N-1][0] = c\n",
    "    A[0][N-2] = c    \n",
    "    A[0][0] = a1\n",
    "    A[N-1][N-1] = b\n",
    "    A[0][1] = a2\n",
    "    A[N-1][N-2] = a2\n",
    "    return A\n",
    "\n",
    "import numpy as np\n",
    "\n",
    "def pivot(matriz,s,i):\n",
    "    a = 0\n",
    "    b = 0\n",
    "    c = np.zeros(len(matriz[0]))\n",
    "    for j in range(i,len(matriz)):\n",
    "        if np.abs(matriz[j][i]) > np.abs(a):\n",
    "            a,b = matriz[j][i],j\n",
    "    c = np.copy(matriz[i])\n",
    "    matriz[i] = np.copy(matriz[b])\n",
    "    matriz[b] = np.copy(c)\n",
    "    f = np.copy(s[i])\n",
    "    s[i] = np.copy(s[b])\n",
    "    s[b] = f\n",
    "    return matriz\n",
    "\n",
    "\n",
    "def gauss_piv(matriz,s):                      \n",
    "    matriz1= np.copy(matriz)\n",
    "    s1 = np.copy(s)\n",
    "    for i in range(len(matriz1)):\n",
    "        pivot(matriz1,s1,i)\n",
    "        a = matriz1[i][i]\n",
    "        matriz1[i]=matriz1[i]/a\n",
    "        s1[i] = s1[i]/a\n",
    "        for j in range(i + 1,len(matriz1)):\n",
    "            a = matriz1[j][i]\n",
    "            matriz1[j] = matriz1[j] - matriz1[i]*a\n",
    "            s1[j] = s1[j] - s1[i]*a\n",
    "    s1[-1] /= matriz1[-1][-1]\n",
    "    matriz1[-1][-1] /= matriz1[-1][-1]\n",
    "    sol = np.zeros(len(matriz1))\n",
    "    for i in range(1,len(matriz1)+1):\n",
    "            sol[-i] = s1[-i] - np.dot(sol,matriz1[-i])\n",
    "    return sol\n",
    "\n",
    "def gauss(matriz,s):                       #funções que faz eliminação de gauss em qualquer matriz\n",
    "    matriz1= np.copy(matriz)\n",
    "    s1 = np.copy(s)\n",
    "    for i in range(len(matriz1)):\n",
    "        a = matriz1[i][i]\n",
    "        matriz1[i]=matriz1[i]/a\n",
    "        s1[i] = s1[i]/a\n",
    "        for j in range(i + 1,len(matriz1)):\n",
    "            a = matriz1[j][i]\n",
    "            matriz1[j] = matriz1[j] - matriz1[i]*a\n",
    "            s1[j] = s1[j] - s1[i]*a\n",
    "    sol = np.zeros(len(matriz1))\n",
    "    for i in range(1,len(matriz1)+1):\n",
    "            sol[-i] = s1[-i] - np.dot(sol,matriz1[-i])\n",
    "    return sol\n",
    "\n",
    "def reduc(matriz):                                     # reduz a matriz criando a matriz U\n",
    "    for i in range(len(matriz)):\n",
    "        matriz[i]=matriz[i]/matriz[i][i]\n",
    "        for j in range(i + 1,len(matriz)):\n",
    "            matriz[j] = matriz[j] - matriz[i]*matriz[j][i]\n",
    "    return matriz\n",
    "\n",
    "def lower(matriz,U):                                   # cria matriz L\n",
    "    N = len(U)\n",
    "    L = np.zeros((N,N))\n",
    "    for i in range(len(matriz)):\n",
    "        for j in range(i+1):\n",
    "            L[i][j] = matriz[i][j] - np.dot(U[:,j][:j],L[i][:j])\n",
    "    return L"
   ]
  },
  {
   "cell_type": "markdown",
   "metadata": {
    "heading_collapsed": true
   },
   "source": [
    "# Equações não-lineares"
   ]
  },
  {
   "cell_type": "markdown",
   "metadata": {
    "heading_collapsed": true,
    "hidden": true
   },
   "source": [
    "## Método da bisseção "
   ]
  },
  {
   "cell_type": "code",
   "execution_count": null,
   "metadata": {
    "collapsed": true,
    "hidden": true
   },
   "outputs": [],
   "source": [
    "def bi(x1,x2,error):\n",
    "    e = 1\n",
    "    while np.abs(e)>error:\n",
    "        x = x1 + 0.5*np.abs(x1-x2)\n",
    "        if f(x)*f(x1)<0:\n",
    "            x2 = x\n",
    "        else:\n",
    "            x1 = x\n",
    "        e = np.abs(x1-x2)\n",
    "    x = x1 + 0.5*np.abs(x1-x2)\n",
    "    return x"
   ]
  },
  {
   "cell_type": "markdown",
   "metadata": {
    "heading_collapsed": true,
    "hidden": true
   },
   "source": [
    "## Método de Newton\n"
   ]
  },
  {
   "cell_type": "code",
   "execution_count": null,
   "metadata": {
    "collapsed": true,
    "hidden": true
   },
   "outputs": [],
   "source": [
    "def newton(x,error):                     # método de newton sabendo a forma analítica da derivada df(x).\n",
    "    e = 1\n",
    "    while np.abs(e)>np.abs(error):\n",
    "        a,x = x,x-f(x)/df(x)\n",
    "        e = np.abs(x-a)\n",
    "    return a\n",
    "\n",
    "def sec(x1,x2,error):                    # método de newton usando as diferenças finitas para a derivada.\n",
    "    e = 1\n",
    "    while np.abs(e)>np.abs(error):\n",
    "        x1,x3 = x2,x2-f(x2)*(x2-x1)/(f(x2)-f(x1))\n",
    "        x2 = x3\n",
    "        e = np.abs(x2-x1)\n",
    "    return x2"
   ]
  },
  {
   "cell_type": "markdown",
   "metadata": {},
   "source": [
    "# Transformadas de Fourier"
   ]
  },
  {
   "cell_type": "code",
   "execution_count": null,
   "metadata": {
    "collapsed": true
   },
   "outputs": [],
   "source": [
    "def dft(y):\n",
    "    N = len(y)\n",
    "    c = np.zeros(N,complex)\n",
    "    for k in range(N//2 + 1):\n",
    "        for n in range(N):\n",
    "            c[k] += y[n]*np.exp(-2j*np.pi*k*n/N)\n",
    "    return c\n",
    "\n",
    "def fft2(y):\n",
    "    N = len(y)\n",
    "    a = np.copy(y)\n",
    "    p.plot(np.abs(a),'.')\n",
    "    p.show()\n",
    "    for m in range(int( log(N,2)) -1 , -1 , -1 ):\n",
    "        E = np.zeros(len(y),complex)\n",
    "        for k in range(int(N/(2**m))):\n",
    "            for i in range(2**m):\n",
    "                E[i+k*2**m] = a[i + 2**(m+1) * (k%( int(N/(2**(m+1) )))) ] + a[i + 2**m + 2**(m+1) * (k%(int(N/(2**(m+1) ))))]*np.exp(-2j*(2**m)*np.pi*k/N)\n",
    "        a = np.copy(E)\n",
    "        p.plot(np.abs(a),'.')\n",
    "        p.show()\n",
    "    return a\n",
    "\n"
   ]
  },
  {
   "cell_type": "markdown",
   "metadata": {
    "heading_collapsed": true
   },
   "source": [
    "# Animação "
   ]
  },
  {
   "cell_type": "code",
   "execution_count": 1,
   "metadata": {
    "collapsed": true,
    "hidden": true
   },
   "outputs": [],
   "source": [
    "from matplotlib import animation           \n",
    "from IPython.display import display, Image\n",
    "from IPython.display import HTML\n",
    "\n",
    "def init():\n",
    "    line.set_data([], [])                     \n",
    "    return line,\n",
    "\n",
    "def animate(i):\n",
    "    line.set_data(x, MA[i])\n",
    "    return line,"
   ]
  },
  {
   "cell_type": "code",
   "execution_count": null,
   "metadata": {
    "collapsed": true,
    "hidden": true
   },
   "outputs": [],
   "source": [
    "fig, ax = p.subplots(figsize=(10,5)) \n",
    "line, = ax.plot([], []) \n",
    "ax.set_ylim(-2,2)\n",
    "ax.set_xlim(0,x[-1])\n",
    "fr = len(MA[:,0])\n",
    "anim = animation.FuncAnimation(fig, animate, init_func=init,frames=fr-1, interval=20,blit=True)\n",
    "p.close(anim._fig)\n",
    "HTML(anim.to_html5_video())"
   ]
  }
 ],
 "metadata": {
  "kernelspec": {
   "display_name": "Python 3",
   "language": "python",
   "name": "python3"
  },
  "language_info": {
   "codemirror_mode": {
    "name": "ipython",
    "version": 3
   },
   "file_extension": ".py",
   "mimetype": "text/x-python",
   "name": "python",
   "nbconvert_exporter": "python",
   "pygments_lexer": "ipython3",
   "version": "3.6.1"
  }
 },
 "nbformat": 4,
 "nbformat_minor": 2
}
