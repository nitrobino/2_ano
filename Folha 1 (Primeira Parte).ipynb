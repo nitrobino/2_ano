{
 "cells": [
  {
   "cell_type": "code",
   "execution_count": 22,
   "metadata": {
    "collapsed": true
   },
   "outputs": [],
   "source": [
    "import numpy as np\n"
   ]
  },
  {
   "cell_type": "code",
   "execution_count": 4,
   "metadata": {},
   "outputs": [
    {
     "name": "stdout",
     "output_type": "stream",
     "text": [
      "1\n",
      "1.0\n",
      "2.0\n",
      "5.0\n",
      "14.0\n",
      "42.0\n",
      "132.0\n",
      "429.0\n",
      "1430.0\n",
      "4862.0\n",
      "16796.0\n",
      "58786.0\n",
      "208012.0\n",
      "742900.0\n",
      "2674440.0\n",
      "9694845.0\n",
      "35357670.0\n",
      "129644790.0\n",
      "477638700.0\n"
     ]
    }
   ],
   "source": [
    "c = 1\n",
    "n = 0\n",
    "while c < 1000000000:\n",
    "    print(c)\n",
    "    c = (4*n+2)/(n+2)*c\n",
    "    n += 1\n",
    "    \n",
    "    \n",
    "    \n",
    "\n",
    "    \n"
   ]
  },
  {
   "cell_type": "code",
   "execution_count": 25,
   "metadata": {},
   "outputs": [
    {
     "name": "stdout",
     "output_type": "stream",
     "text": [
      "-1.74181981584\n"
     ]
    }
   ],
   "source": [
    "V=0\n",
    "L = 100\n",
    "\n",
    "for i in range (-L, L+1):\n",
    "    for j in range (-L, L+1):\n",
    "        for k in range (-L, L+1):\n",
    "            if (i+j+k)%2 == 0 and (i**2 + j**2 + k**2) != 0:\n",
    "                V = V + 1/(np.sqrt(i**2 + j**2 + k**2))\n",
    "            elif i + j + k == 0:\n",
    "                V = V\n",
    "            else:\n",
    "                V = V - 1/(np.sqrt(i**2 + j**2 + k**2))\n",
    "            \n",
    "print(V)\n",
    "                \n",
    "        "
   ]
  },
  {
   "cell_type": "code",
   "execution_count": 33,
   "metadata": {},
   "outputs": [
    {
     "name": "stdout",
     "output_type": "stream",
     "text": [
      "[2, 3, 5, 7, 11, 13, 17, 19, 23, 29, 31, 37, 41, 43, 47]\n"
     ]
    }
   ],
   "source": [
    "primos = [2]\n",
    "M = 50\n",
    "j = 0\n",
    "a = 0\n",
    "for i in range(3,M+1):\n",
    "    while primos[j] <= int(np.sqrt(i)):\n",
    "        if i%primos[j] == 0 :\n",
    "            a = 1\n",
    "            break\n",
    "        else:\n",
    "            j += 1\n",
    "    if a == 0:\n",
    "        primos.append(i)\n",
    "    j = 0\n",
    "    a = 0\n",
    "print(primos)\n",
    "        "
   ]
  },
  {
   "cell_type": "code",
   "execution_count": 12,
   "metadata": {},
   "outputs": [
    {
     "data": {
      "text/plain": [
       "1"
      ]
     },
     "execution_count": 12,
     "metadata": {},
     "output_type": "execute_result"
    }
   ],
   "source": [
    "def fatorial(s):\n",
    "    if s == 0:\n",
    "        return 1\n",
    "    else:\n",
    "        return s*fatorial(s-1)\n",
    "def binomial(n,k):\n",
    "    if k == 0:\n",
    "        return 1\n",
    "    else:\n",
    "        return int(fatorial(n)/(fatorial(k)*fatorial(n-k)))\n",
    "\n",
    "binomial(7,7)\n"
   ]
  },
  {
   "cell_type": "code",
   "execution_count": 22,
   "metadata": {},
   "outputs": [
    {
     "name": "stdout",
     "output_type": "stream",
     "text": [
      " 1 1\n",
      " 1 2 1\n",
      " 1 3 3 1\n",
      " 1 4 6 4 1\n",
      " 1 5 10 10 5 1\n",
      " 1 6 15 20 15 6 1\n",
      " 1 7 21 35 35 21 7 1\n",
      " 1 8 28 56 70 56 28 8 1\n",
      " 1 9 36 84 126 126 84 36 9 1\n",
      " 1 10 45 120 210 252 210 120 45 10 1\n",
      " 1 11 55 165 330 462 462 330 165 55 11 1\n",
      " 1 12 66 220 495 792 924 792 495 220 66 12 1\n",
      " 1 13 78 286 715 1287 1716 1716 1287 715 286 78 13 1\n",
      " 1 14 91 364 1001 2002 3003 3432 3003 2002 1001 364 91 14 1\n",
      " 1 15 105 455 1365 3003 5005 6435 6435 5005 3003 1365 455 105 15 1\n",
      " 1 16 120 560 1820 4368 8008 11440 12870 11440 8008 4368 1820 560 120 16 1\n",
      " 1 17 136 680 2380 6188 12376 19448 24310 24310 19448 12376 6188 2380 680 136 17 1\n",
      " 1 18 153 816 3060 8568 18564 31824 43758 48620 43758 31824 18564 8568 3060 816 153 18 1\n",
      " 1 19 171 969 3876 11628 27132 50388 75582 92378 92378 75582 50388 27132 11628 3876 969 171 19 1\n",
      " 1 20 190 1140 4845 15504 38760 77520 125970 167960 184756 167960 125970 77520 38760 15504 4845 1140 190 20 1\n"
     ]
    }
   ],
   "source": [
    "c = ''\n",
    "for i in range(1,21):\n",
    "    for j in range(i+1):\n",
    "      c +=' ' + str(binomial(i,j))\n",
    "    print(c)\n",
    "    c = ''\n",
    "    "
   ]
  },
  {
   "cell_type": "code",
   "execution_count": null,
   "metadata": {
    "collapsed": true
   },
   "outputs": [],
   "source": []
  }
 ],
 "metadata": {
  "kernelspec": {
   "display_name": "Python 3",
   "language": "python",
   "name": "python3"
  },
  "language_info": {
   "codemirror_mode": {
    "name": "ipython",
    "version": 3
   },
   "file_extension": ".py",
   "mimetype": "text/x-python",
   "name": "python",
   "nbconvert_exporter": "python",
   "pygments_lexer": "ipython3",
   "version": "3.6.1"
  }
 },
 "nbformat": 4,
 "nbformat_minor": 2
}
